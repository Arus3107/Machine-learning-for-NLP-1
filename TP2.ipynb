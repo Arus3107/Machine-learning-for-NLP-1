{
  "nbformat": 4,
  "nbformat_minor": 0,
  "metadata": {
    "colab": {
      "provenance": [],
      "authorship_tag": "ABX9TyPhzKzJnW4iduoGQltxZ6qK",
      "include_colab_link": true
    },
    "kernelspec": {
      "name": "python3",
      "display_name": "Python 3"
    },
    "language_info": {
      "name": "python"
    }
  },
  "cells": [
    {
      "cell_type": "markdown",
      "metadata": {
        "id": "view-in-github",
        "colab_type": "text"
      },
      "source": [
        "<a href=\"https://colab.research.google.com/github/Arus3107/Machine-learning-for-NLP-1/blob/main/TP2.ipynb\" target=\"_parent\"><img src=\"https://colab.research.google.com/assets/colab-badge.svg\" alt=\"Open In Colab\"/></a>"
      ]
    },
    {
      "cell_type": "markdown",
      "source": [
        "### Nicolas Angleraud, M1 LI\n",
        "\n"
      ],
      "metadata": {
        "id": "ukDUhRiKfMO5"
      }
    },
    {
      "cell_type": "markdown",
      "source": [
        "# Sentiment Analysis with sklearn"
      ],
      "metadata": {
        "id": "A9PVSYJ_Zwmt"
      }
    },
    {
      "cell_type": "markdown",
      "source": [
        "## 1. Data preparation"
      ],
      "metadata": {
        "id": "R2zgBW7kZ0Vj"
      }
    },
    {
      "cell_type": "code",
      "execution_count": 253,
      "metadata": {
        "id": "NnAHLz5VCtu5",
        "colab": {
          "base_uri": "https://localhost:8080/",
          "height": 0
        },
        "outputId": "4b0e640f-0fdb-4208-d82e-c16394846b8d"
      },
      "outputs": [
        {
          "output_type": "stream",
          "name": "stdout",
          "text": [
            "Looking in indexes: https://pypi.org/simple, https://us-python.pkg.dev/colab-wheels/public/simple/\n",
            "Requirement already satisfied: sacremoses in /usr/local/lib/python3.7/dist-packages (0.0.53)\n",
            "Requirement already satisfied: joblib in /usr/local/lib/python3.7/dist-packages (from sacremoses) (1.2.0)\n",
            "Requirement already satisfied: regex in /usr/local/lib/python3.7/dist-packages (from sacremoses) (2022.6.2)\n",
            "Requirement already satisfied: click in /usr/local/lib/python3.7/dist-packages (from sacremoses) (7.1.2)\n",
            "Requirement already satisfied: six in /usr/local/lib/python3.7/dist-packages (from sacremoses) (1.15.0)\n",
            "Requirement already satisfied: tqdm in /usr/local/lib/python3.7/dist-packages (from sacremoses) (4.64.1)\n"
          ]
        }
      ],
      "source": [
        "!pip install sacremoses"
      ]
    },
    {
      "cell_type": "code",
      "source": [
        "from sacremoses import MosesTokenizer\n",
        "import json\n",
        "corpus = json.load(open(\"tweet_airlines.json\", \"r\"))"
      ],
      "metadata": {
        "id": "7CJI-orvijzj"
      },
      "execution_count": 254,
      "outputs": []
    },
    {
      "cell_type": "code",
      "source": [
        "print(\"number of tweets:\", len(corpus))\n",
        "\n",
        "neutral = 0\n",
        "positive = 0\n",
        "negative = 0\n",
        "for dico in corpus:\n",
        "  label = dico[\"label\"]\n",
        "  if label == \"positive\":\n",
        "    positive += 1\n",
        "  elif label == \"negative\":\n",
        "    negative += 1\n",
        "  else:\n",
        "    neutral += 1\n",
        "\n",
        "print(\"positive proportion:\", positive/len(corpus))\n",
        "print(\"negative proportion:\", negative/len(corpus))\n",
        "print(\"neutral proportion:\", neutral/len(corpus))"
      ],
      "metadata": {
        "colab": {
          "base_uri": "https://localhost:8080/",
          "height": 0
        },
        "id": "ZsUovKDSjjrI",
        "outputId": "da6c3baa-fa76-4041-c15f-3be25bb7a96b"
      },
      "execution_count": 255,
      "outputs": [
        {
          "output_type": "stream",
          "name": "stdout",
          "text": [
            "number of tweets: 14640\n",
            "positive proportion: 0.16140710382513662\n",
            "negative proportion: 0.6269125683060109\n",
            "neutral proportion: 0.21168032786885246\n"
          ]
        }
      ]
    },
    {
      "cell_type": "markdown",
      "source": [
        "### Interprétation de la distribution des données\n",
        "Les données ont une distribution déséquilibrée donc il faut faire attention à la métrique utilisée pour interpréter les résultats que l'on obtiendra. On sait par exemple que la macro accuracy sera plus pertinente que la micro accuracy car elle traite toutes les classes de manière équitable contrairement à la micro accuracy qui est très sensible à la distribution des données."
      ],
      "metadata": {
        "id": "qv0_zYreb0ZB"
      }
    },
    {
      "cell_type": "code",
      "source": [
        "from sacremoses import MosesTokenizer\n",
        "\n",
        "mt = MosesTokenizer(lang='en')\n",
        "mt.tokenize(\"@SouthwestAir don't you think a 4hr wait time\", \n",
        "            return_str=True, \n",
        "            escape=False,\n",
        "            protected_patterns=mt.WEB_PROTECTED_PATTERNS)\n"
      ],
      "metadata": {
        "colab": {
          "base_uri": "https://localhost:8080/",
          "height": 36
        },
        "id": "vHWlXNGpk69n",
        "outputId": "244f2165-10cc-4b9c-98e6-471901a720c1"
      },
      "execution_count": 297,
      "outputs": [
        {
          "output_type": "execute_result",
          "data": {
            "text/plain": [
              "\"@SouthwestAir don 't you think a 4hr wait time\""
            ],
            "application/vnd.google.colaboratory.intrinsic+json": {
              "type": "string"
            }
          },
          "metadata": {},
          "execution_count": 297
        }
      ]
    },
    {
      "cell_type": "markdown",
      "source": [
        "### Explication moses et fonction tokenize\n",
        "Moses est un outil de tokenization qui gère plusieurs langues différentes.\n",
        "La fonction tokenize prend une chaine de caractères et la même chaine avec tous les éléments unitaires séparés par un espace. Cela permet de manipuler les mots et expressions contenus dans chaque tweet du corpus plus facilement ensuite. Le paramètre return_str est fixé à True afin de ne pas renvoyer une liste de mots mais bien une phrase avec chaque mot/expression séparé par un espace. Le paramètre escape est fixé à False pour conserver l'affichage des caratères spéciaux et ne pas les transcrires dans leur expression spéciale. Le WEB_PROTECTED_PATTERNS permet de conserver certains patterns de caractères et de ne pas les séparer par un espace lors de la tokenization, comme le '@' par exemple que l'on souhaite laisser attacher au mot qui suit."
      ],
      "metadata": {
        "id": "gipHKzGuggzR"
      }
    },
    {
      "cell_type": "code",
      "source": [
        "def tokenize_sentences(list_of_sentences):\n",
        "  return [mt.tokenize(tweet, return_str=True, escape=False, protected_patterns=mt.WEB_PROTECTED_PATTERNS) for tweet in list_of_sentences]"
      ],
      "metadata": {
        "id": "W0P2pXZ2qGPc"
      },
      "execution_count": 257,
      "outputs": []
    },
    {
      "cell_type": "code",
      "source": [
        "def extract_sentences(corpus):\n",
        "  sentences = []\n",
        "  for tweet in corpus:\n",
        "    sentences.append(tweet[\"tweet\"])\n",
        "  return sentences"
      ],
      "metadata": {
        "id": "RLPFE8cBsL3D"
      },
      "execution_count": 258,
      "outputs": []
    },
    {
      "cell_type": "code",
      "source": [
        "def extract_labels(corpus):\n",
        "  labels = []\n",
        "  for label in corpus:\n",
        "    labels.append(label[\"label\"])\n",
        "  return labels"
      ],
      "metadata": {
        "id": "0l-eu9ADsg43"
      },
      "execution_count": 259,
      "outputs": []
    },
    {
      "cell_type": "code",
      "source": [
        "tweets = extract_sentences(corpus)\n",
        "#print(tokenize_sentences(tweets))"
      ],
      "metadata": {
        "id": "LCa66kxvuPmI"
      },
      "execution_count": 299,
      "outputs": []
    },
    {
      "cell_type": "code",
      "source": [
        "from sklearn.feature_extraction.text import TfidfVectorizer\n",
        "from sklearn.model_selection import train_test_split\n",
        "\n",
        "#vectorizer = TfidfVectorizer(max_features=2_500,\n",
        "#                             min_df=7,\n",
        "#                             max_df=0.8)\n",
        "#X = vectorizer.fit_transform(tokenize_sentences(corpus))\n",
        "#y = extract_labels(corpus)\n",
        "#X_train, X_test, y_train, y_test = train_test_split(X, y, test_size=0.2)\n"
      ],
      "metadata": {
        "id": "hYkAeE8Ln1f7"
      },
      "execution_count": 261,
      "outputs": []
    },
    {
      "cell_type": "markdown",
      "source": [
        "### Explication erreur\n",
        "Si on vectorise les données avant de les séparer en deux sets test et train différents et indépendants alors les données des deux sets seront liées et cela va fausser les résultats du code utilisé pour entrainer le classifier et le tester sur des données. En effet, en faisant ainsi la fonction d'évaluation va plus facilement évaluer correctement les données du set test car il aura joué dans l'entrainement du classifier d'une certaine manière à cause de la non indépendance de test et train. "
      ],
      "metadata": {
        "id": "sSj08Dfut_cD"
      }
    },
    {
      "cell_type": "code",
      "source": [
        "vectorizer = TfidfVectorizer(max_features=2_500,\n",
        "                             min_df=7,\n",
        "                             max_df=0.8)\n",
        "X = tokenize_sentences(extract_sentences(corpus))\n",
        "y = extract_labels(corpus)\n",
        "X_train, X_test, y_train, y_test = train_test_split(X, y, test_size=0.2)\n",
        "\n",
        "X_train_vectorized = vectorizer.fit_transform(X_train)\n",
        "X_test_vectorized = vectorizer.transform(X_test)"
      ],
      "metadata": {
        "id": "UGU5TavQxTXr"
      },
      "execution_count": 262,
      "outputs": []
    },
    {
      "cell_type": "markdown",
      "source": [
        "### Explication paramètres vectorizer\n",
        "max_features donne le nombre maximal de features que l'on va extraire avec la fonction. min_df indique que les features qui apparaissent dans moins de 7 phrases ne seront pas conservés. max_df indique que les features qui apparaissent dans plus de 80% des phrases ne seront pas conservés. L'objectif est d'optimiser l'extraction de features afin de ne pas s'encombrer d'éléments qui apparaissent trop peu ou trop souvent. Dans le premier cas, ces éléments ne sont pas pertinents pour l'évaluation car ils ne semblent pas déterminants dans la plupart des données, dans le second cas, il s'agit d'éléments triviaux qui sont présents dans la plupart des phrases et qui ne portent pas en eux une indication sur le fait de dire qu'un tweet est positif, neutre ou négatif."
      ],
      "metadata": {
        "id": "ljo-LHaxx3-c"
      }
    },
    {
      "cell_type": "code",
      "source": [
        "#print(X.shape[1])\n",
        "print(X_train_vectorized.shape[1])\n",
        "print(X_test_vectorized.shape[1])\n",
        "\n",
        "#print(X.shape[0])\n",
        "print(X_train_vectorized.shape[0])\n",
        "print(X_test_vectorized.shape[0])"
      ],
      "metadata": {
        "colab": {
          "base_uri": "https://localhost:8080/",
          "height": 0
        },
        "id": "-VNDZ6xu-YTo",
        "outputId": "6ac4830e-0de2-4732-a211-06c615e66961"
      },
      "execution_count": 263,
      "outputs": [
        {
          "output_type": "stream",
          "name": "stdout",
          "text": [
            "2103\n",
            "2103\n",
            "11712\n",
            "2928\n"
          ]
        }
      ]
    },
    {
      "cell_type": "markdown",
      "source": [
        "### Nombre de features extraits\n",
        "Lorsque X est vectorisé, il comporte deux dimensions: les features extraits et les phrases du corpus. X_train possède 80% des phrases du corpus et X_test 20%. La dimension qu'ils ont en commun est le nombre de features. On peut donc en conclure que le nombre de features extraits est 2103."
      ],
      "metadata": {
        "id": "5OZ4o3aSvggo"
      }
    },
    {
      "cell_type": "code",
      "source": [
        "print(type(X_train_vectorized))\n",
        "print(X_train_vectorized.shape)"
      ],
      "metadata": {
        "colab": {
          "base_uri": "https://localhost:8080/",
          "height": 0
        },
        "id": "-0mlU2rnijOX",
        "outputId": "403d537d-bb7f-478e-8712-a0af9e4b1347"
      },
      "execution_count": 264,
      "outputs": [
        {
          "output_type": "stream",
          "name": "stdout",
          "text": [
            "<class 'scipy.sparse.csr.csr_matrix'>\n",
            "(11712, 2103)\n"
          ]
        }
      ]
    },
    {
      "cell_type": "markdown",
      "source": [
        "### Type et Size de X_train\n",
        "X_train est un objet de type sparse matrix. Il s'agit d'une matrice qui contient principalement des 0. Pour certaines structures de données il s'agit d'un objet qui optimise la programmation car elle permet de stocker plus efficacement et d'améliorer la vitesse d'exécution. Il s'agit ici d'une matrice qui stocke les phrases du set et les features associés à chaque phrase.\n"
      ],
      "metadata": {
        "id": "j2OclaFcvmqw"
      }
    },
    {
      "cell_type": "code",
      "source": [
        "from sklearn.ensemble import RandomForestClassifier\n",
        "from sklearn.metrics import accuracy_score\n",
        "\n",
        "clf = RandomForestClassifier(n_estimators=200)\n",
        "clf.fit(X_train_vectorized, y_train)"
      ],
      "metadata": {
        "colab": {
          "base_uri": "https://localhost:8080/",
          "height": 0
        },
        "id": "Er9n9bqC3MkB",
        "outputId": "ae53410c-3676-4bd5-f2af-8bb9499ac3b9"
      },
      "execution_count": 283,
      "outputs": [
        {
          "output_type": "execute_result",
          "data": {
            "text/plain": [
              "RandomForestClassifier(n_estimators=200)"
            ]
          },
          "metadata": {},
          "execution_count": 283
        }
      ]
    },
    {
      "cell_type": "code",
      "source": [
        "from sklearn.metrics import accuracy_score\n",
        "y_train_predicted = clf.predict(X_train_vectorized)\n",
        "y_test_predicted = clf.predict(X_test_vectorized)\n",
        "\n",
        "\n",
        "print(\"accuracy score for test set :\",accuracy_score(y_test, y_test_predicted))\n",
        "print(\"accuracy score for train set :\",accuracy_score(y_train, y_train_predicted))"
      ],
      "metadata": {
        "colab": {
          "base_uri": "https://localhost:8080/",
          "height": 0
        },
        "id": "d41RgWsr-oy8",
        "outputId": "9dd3f07c-8d1c-4b09-93a0-d2aa5ea10a8d"
      },
      "execution_count": 298,
      "outputs": [
        {
          "output_type": "stream",
          "name": "stdout",
          "text": [
            "accuracy score for test set : 0.7496584699453552\n",
            "accuracy score for train set : 0.9963285519125683\n"
          ]
        }
      ]
    },
    {
      "cell_type": "markdown",
      "source": [
        "### Accuracy score avec le classifier\n",
        "L'accuracy score est très élevé sur le train set puisqu'il s'agit des données qui ont servit à construire le classifier et ont un impact déterminant sur la fonction d'évaluation.\n",
        "L'accuracy score d'un classifier qui retourne toujours la classe majoritaire serait de 0.6 puisque dans 60% des cas le label est 'négatif'.\n",
        "L'accuracy score d'un classifier qui prendrait des décisions aléatoires serait 1/3 puisqu'il y a trois labels différents.\n",
        "Ces classifiers ne seraient pas pertinents puisqu'ils seraient peu précis et parce qu'ils ne prennent pas en compte la complexité du problème d'évaluation."
      ],
      "metadata": {
        "id": "Jsq9HtRNzw8P"
      }
    },
    {
      "cell_type": "code",
      "source": [
        "from sklearn.metrics import confusion_matrix\n",
        "\n",
        "print(confusion_matrix(y_train, y_train_predicted, labels = [\"positive\",\"neutral\",\"negative\"]))"
      ],
      "metadata": {
        "colab": {
          "base_uri": "https://localhost:8080/",
          "height": 0
        },
        "id": "23fkCCURiWUS",
        "outputId": "67000ef2-eaf0-4585-b200-ba1aaba7cc5e"
      },
      "execution_count": 267,
      "outputs": [
        {
          "output_type": "stream",
          "name": "stdout",
          "text": [
            "[[1914    7    2]\n",
            " [  20 2464    4]\n",
            " [   1    9 7291]]\n"
          ]
        }
      ]
    },
    {
      "cell_type": "code",
      "source": [
        "conf_matrix_test = confusion_matrix(y_test, y_test_predicted, labels = [\"positive\",\"neutral\",\"negative\"])\n",
        "print(conf_matrix_test)"
      ],
      "metadata": {
        "colab": {
          "base_uri": "https://localhost:8080/",
          "height": 0
        },
        "id": "xsPzkQ46nlnh",
        "outputId": "d4dc22c1-579d-42f3-ee6a-9b6ee1c28510"
      },
      "execution_count": 268,
      "outputs": [
        {
          "output_type": "stream",
          "name": "stdout",
          "text": [
            "[[ 203   51  186]\n",
            " [  38  212  361]\n",
            " [  24   73 1780]]\n"
          ]
        }
      ]
    },
    {
      "cell_type": "markdown",
      "source": [
        "### Confusion matrix\n",
        "Une matrice de confusion est une matrice qui indique sur la diagonale le nombre d'objets bien évalués par la fonction du classifier et les autres valeurs correspondent aux erreurs de prédiction dans tous les cas de figure possible. Les lignes correspondent aux labels gold et les colonnes aux lablels prédits. Par exemple la première ligne correspond aux labels 'positive' bien trouvés, puis aux labels 'neutral' prédits à la place de 'positive' et enfin les labels 'negative' là il s'agit en réalité de 'positive'."
      ],
      "metadata": {
        "id": "-dW1bi-r-Dll"
      }
    },
    {
      "cell_type": "code",
      "source": [
        "print(\"micro_accuracy(test_set) = \", (conf_matrix_test[0][0]+conf_matrix_test[1][1]+conf_matrix_test[2][2])/len(X_test))\n",
        "pred_positive = conf_matrix_test[0][0] + conf_matrix_test[0][1] + conf_matrix_test[0][2]\n",
        "pred_neutral = conf_matrix_test[1][0] + conf_matrix_test[1][1] + conf_matrix_test[1][2]\n",
        "pred_negative = conf_matrix_test[2][0] + conf_matrix_test[2][1] + conf_matrix_test[2][2]\n",
        "print(\"macro_accuracy(test_set) = \", ((conf_matrix_test[0][0])/pred_positive + (conf_matrix_test[1][1])/pred_neutral + (conf_matrix_test[2][2])/pred_negative) / 3)"
      ],
      "metadata": {
        "colab": {
          "base_uri": "https://localhost:8080/",
          "height": 0
        },
        "id": "3TjVAVwvfBd9",
        "outputId": "cb879aab-9f34-42a4-cf21-5183bc997484"
      },
      "execution_count": 269,
      "outputs": [
        {
          "output_type": "stream",
          "name": "stdout",
          "text": [
            "micro_accuracy(test_set) =  0.7496584699453552\n",
            "macro_accuracy(test_set) =  0.585552534404539\n"
          ]
        }
      ]
    },
    {
      "cell_type": "code",
      "source": [
        "from sklearn.metrics import f1_score\n",
        "\n",
        "def micro_accuracy(gold, pred):\n",
        "  return accuracy_score(gold, pred)\n",
        "\n",
        "def macro_accuracy(gold, pred):\n",
        "  return sum(f1_score(gold, pred, average=None))/3"
      ],
      "metadata": {
        "id": "_XBge4WxUf-z"
      },
      "execution_count": 270,
      "outputs": []
    },
    {
      "cell_type": "code",
      "source": [
        "print(\"micro_accuracy(test_set) = \", micro_accuracy(y_test, y_test_predicted))\n",
        "print(\"macro_accuracy(test_set) = \", macro_accuracy(y_test, y_test_predicted))"
      ],
      "metadata": {
        "colab": {
          "base_uri": "https://localhost:8080/",
          "height": 0
        },
        "id": "0F1Fxfz5Jr6K",
        "outputId": "364dceaf-267e-4f61-be0d-fd8246a8f680"
      },
      "execution_count": 271,
      "outputs": [
        {
          "output_type": "stream",
          "name": "stdout",
          "text": [
            "micro_accuracy(test_set) =  0.7496584699453552\n",
            "macro_accuracy(test_set) =  0.623476252313448\n"
          ]
        }
      ]
    },
    {
      "cell_type": "markdown",
      "source": [
        "### Interprétation accuracy/confusion matrix\n",
        "La micro_accuracy est égale à l'accuracy_score de sklearn. La macro_accuracy correspond à la moyenne pour tous les labels de chaque f1-score qui prend en compte les métriques de precision et recall de chaque label. La macro_accuracy est assez faible donc le classifier utilisé de RandomForest à 200 arbres n'est pas très efficace pour nos données du problème."
      ],
      "metadata": {
        "id": "mypGiYuz_0qo"
      }
    },
    {
      "cell_type": "code",
      "source": [
        "import numpy as np\n",
        "import time\n",
        "\n",
        "start_time = time.time()\n",
        "importances = clf.feature_importances_\n",
        "std = np.std([tree.feature_importances_ for tree in clf.estimators_], axis=0)\n",
        "elapsed_time = time.time() - start_time\n",
        "\n",
        "print(f\"Elapsed time to compute the importances: {elapsed_time:.3f} seconds\")"
      ],
      "metadata": {
        "colab": {
          "base_uri": "https://localhost:8080/",
          "height": 0
        },
        "id": "MLRNeVYgYQ7D",
        "outputId": "256e797b-49e1-457e-b7c9-70e9a9b0a173"
      },
      "execution_count": 272,
      "outputs": [
        {
          "output_type": "stream",
          "name": "stdout",
          "text": [
            "Elapsed time to compute the importances: 0.065 seconds\n"
          ]
        }
      ]
    },
    {
      "cell_type": "code",
      "source": [
        "import pandas as pd\n",
        "import matplotlib.pyplot as plt\n",
        "\n",
        "feature_names = [f\"feature {i}\" for i in range(X_test_vectorized.shape[1])]\n",
        "forest_importances = pd.Series(importances, index=feature_names)\n",
        "\n",
        "fig, ax = plt.subplots()\n",
        "forest_importances.plot.bar(yerr=std, ax=ax)\n",
        "ax.set_title(\"Feature importances using MDI\")\n",
        "ax.set_ylabel(\"Mean decrease in impurity\")\n",
        "fig.tight_layout()"
      ],
      "metadata": {
        "colab": {
          "base_uri": "https://localhost:8080/",
          "height": 297
        },
        "id": "T7JxE2r61wc0",
        "outputId": "ac2f90b5-3ff7-4a28-e2ad-0fc8ba5bb991"
      },
      "execution_count": 273,
      "outputs": [
        {
          "output_type": "display_data",
          "data": {
            "text/plain": [
              "<Figure size 432x288 with 1 Axes>"
            ],
            "image/png": "[encoded data removed]"
          },
          "metadata": {
            "needs_background": "light"
          }
        }
      ]
    },
    {
      "cell_type": "code",
      "source": [
        "import pandas as pd\n",
        "import matplotlib.pyplot as plt\n",
        "\n",
        "feature_names = [f\"F{i}\" for i in range(X_test_vectorized.shape[1])]\n",
        "forest_importances = pd.Series(importances, index=feature_names)\n",
        "\n",
        "forest_importances_ten = forest_importances.sort_values(ascending = False)[0:10]\n",
        "feature_names = forest_importances_ten.index\n",
        "\n",
        "fig, ax = plt.subplots()\n",
        "for feature, feature_name in zip(forest_importances_ten, feature_names):\n",
        "  plt.bar(feature_name, feature, color='black')\n",
        "ax.set_title(\"Feature importances using MDI\")\n",
        "ax.set_ylabel(\"Mean decrease in impurity\")\n",
        "fig.tight_layout()\n",
        "plt.show()"
      ],
      "metadata": {
        "colab": {
          "base_uri": "https://localhost:8080/",
          "height": 297
        },
        "id": "Dc5wBGa7MpHt",
        "outputId": "75df7979-4a3c-42cc-be7e-595f44d63292"
      },
      "execution_count": 293,
      "outputs": [
        {
          "output_type": "display_data",
          "data": {
            "text/plain": [
              "<Figure size 432x288 with 1 Axes>"
            ],
            "image/png": "[encoded data removed]"
          },
          "metadata": {
            "needs_background": "light"
          }
        }
      ]
    },
    {
      "cell_type": "code",
      "source": [
        "from sklearn.linear_model import LogisticRegression\n",
        "\n",
        "clf = LogisticRegression(random_state = 0, max_iter = 1000)\n",
        "clf.fit(X_train_vectorized, y_train)\n",
        "y_test_predicted_lr = clf.predict(X_test_vectorized)\n",
        "print(\"micro_accuracy(test_set) = \",micro_accuracy(y_test, y_test_predicted_lr))\n",
        "print(\"macro_accuracy(test_set) = \",macro_accuracy(y_test, y_test_predicted_lr))"
      ],
      "metadata": {
        "colab": {
          "base_uri": "https://localhost:8080/",
          "height": 0
        },
        "id": "PVWy13MU_tVS",
        "outputId": "9d2375f4-dc44-4802-bfe6-5df37733e178"
      },
      "execution_count": 275,
      "outputs": [
        {
          "output_type": "stream",
          "name": "stdout",
          "text": [
            "micro_accuracy(test_set) =  0.7988387978142076\n",
            "macro_accuracy(test_set) =  0.7183711935937529\n"
          ]
        }
      ]
    },
    {
      "cell_type": "code",
      "source": [
        "from sklearn.linear_model import Perceptron\n",
        "\n",
        "clf = Perceptron(random_state = 0)\n",
        "clf.fit(X_train_vectorized, y_train)\n",
        "y_test_predicted = clf.predict(X_test_vectorized)\n",
        "print(\"micro_accuracy(test_set) = \",micro_accuracy(y_test, y_test_predicted))\n",
        "print(\"macro_accuracy(test_set) = \",macro_accuracy(y_test, y_test_predicted))"
      ],
      "metadata": {
        "colab": {
          "base_uri": "https://localhost:8080/",
          "height": 0
        },
        "id": "mGvIzNtg_tFc",
        "outputId": "3dd18091-40e9-4f31-ebb6-cb5d07eff158"
      },
      "execution_count": 276,
      "outputs": [
        {
          "output_type": "stream",
          "name": "stdout",
          "text": [
            "micro_accuracy(test_set) =  0.7609289617486339\n",
            "macro_accuracy(test_set) =  0.676740758493047\n"
          ]
        }
      ]
    },
    {
      "cell_type": "code",
      "source": [
        "clf = RandomForestClassifier(n_estimators=20)\n",
        "clf.fit(X_train_vectorized, y_train)\n",
        "y_test_predicted = clf.predict(X_test_vectorized)\n",
        "print(\"micro_accuracy(test_set) = \",micro_accuracy(y_test, y_test_predicted))\n",
        "print(\"macro_accuracy(test_set) = \",macro_accuracy(y_test, y_test_predicted))"
      ],
      "metadata": {
        "colab": {
          "base_uri": "https://localhost:8080/",
          "height": 0
        },
        "id": "M7V2yTJc_s-w",
        "outputId": "0bd0c3c0-b9c3-4e1f-b1c4-4628c280cd03"
      },
      "execution_count": 277,
      "outputs": [
        {
          "output_type": "stream",
          "name": "stdout",
          "text": [
            "micro_accuracy(test_set) =  0.7411202185792349\n",
            "macro_accuracy(test_set) =  0.6126149739009693\n"
          ]
        }
      ]
    },
    {
      "cell_type": "code",
      "source": [
        "clf = RandomForestClassifier(n_estimators=2000)\n",
        "clf.fit(X_train_vectorized, y_train)\n",
        "y_test_predicted = clf.predict(X_test_vectorized)\n",
        "print(\"micro_accuracy(test_set) = \",micro_accuracy(y_test, y_test_predicted))\n",
        "print(\"macro_accuracy(test_set) = \",macro_accuracy(y_test, y_test_predicted))"
      ],
      "metadata": {
        "colab": {
          "base_uri": "https://localhost:8080/",
          "height": 0
        },
        "id": "RcPCt3vf_s02",
        "outputId": "2c08dcb0-b38a-4408-ff08-1bcb84ad7351"
      },
      "execution_count": 278,
      "outputs": [
        {
          "output_type": "stream",
          "name": "stdout",
          "text": [
            "micro_accuracy(test_set) =  0.7486338797814208\n",
            "macro_accuracy(test_set) =  0.6224466384679345\n"
          ]
        }
      ]
    },
    {
      "cell_type": "code",
      "source": [
        "from sklearn.neighbors import KNeighborsClassifier\n",
        "\n",
        "clf = KNeighborsClassifier(n_neighbors=1)\n",
        "clf.fit(X_train_vectorized, y_train)\n",
        "y_test_predicted = clf.predict(X_test_vectorized)\n",
        "print(\"micro_accuracy(test_set) = \",micro_accuracy(y_test, y_test_predicted))\n",
        "print(\"macro_accuracy(test_set) = \",macro_accuracy(y_test, y_test_predicted))"
      ],
      "metadata": {
        "colab": {
          "base_uri": "https://localhost:8080/",
          "height": 0
        },
        "id": "alBzjvS1_sih",
        "outputId": "86cbf9bb-36cc-47f0-cfb7-ac01799f1840"
      },
      "execution_count": 279,
      "outputs": [
        {
          "output_type": "stream",
          "name": "stdout",
          "text": [
            "micro_accuracy(test_set) =  0.6277322404371585\n",
            "macro_accuracy(test_set) =  0.5674080684030002\n"
          ]
        }
      ]
    },
    {
      "cell_type": "code",
      "source": [
        "clf = KNeighborsClassifier(n_neighbors=5)\n",
        "clf.fit(X_train_vectorized, y_train)\n",
        "y_test_predicted = clf.predict(X_test_vectorized)\n",
        "print(\"micro_accuracy(test_set) = \",micro_accuracy(y_test, y_test_predicted))\n",
        "print(\"macro_accuracy(test_set) = \",macro_accuracy(y_test, y_test_predicted))"
      ],
      "metadata": {
        "colab": {
          "base_uri": "https://localhost:8080/",
          "height": 0
        },
        "id": "goif_MUH_sAE",
        "outputId": "9db9a3d2-de6d-4262-d414-f161f1a81c1a"
      },
      "execution_count": 280,
      "outputs": [
        {
          "output_type": "stream",
          "name": "stdout",
          "text": [
            "micro_accuracy(test_set) =  0.7155054644808743\n",
            "macro_accuracy(test_set) =  0.6317957069386849\n"
          ]
        }
      ]
    },
    {
      "cell_type": "code",
      "source": [
        "clf = KNeighborsClassifier(n_neighbors=10)\n",
        "clf.fit(X_train_vectorized, y_train)\n",
        "y_test_predicted = clf.predict(X_test_vectorized)\n",
        "print(\"micro_accuracy(test_set) = \",micro_accuracy(y_test, y_test_predicted))\n",
        "print(\"macro_accuracy(test_set) = \",macro_accuracy(y_test, y_test_predicted))"
      ],
      "metadata": {
        "colab": {
          "base_uri": "https://localhost:8080/",
          "height": 0
        },
        "id": "4yD6UfNB_rrF",
        "outputId": "6a496a9d-24b5-4965-bbac-0a3ee7627288"
      },
      "execution_count": 281,
      "outputs": [
        {
          "output_type": "stream",
          "name": "stdout",
          "text": [
            "micro_accuracy(test_set) =  0.7404371584699454\n",
            "macro_accuracy(test_set) =  0.6464166207659789\n"
          ]
        }
      ]
    },
    {
      "cell_type": "markdown",
      "source": [
        "### Conclusion\n",
        "Le classifier qui a la meilleure macro_accuracy pour notre test_set est le classifier LogisticRegression donc on peut en déduire qu'il s'agit du meilleure classifier parmi ceux entrainés pour notre problème. Le classifier Perceptron est assez proche derrière. Cependant la macro accuracy de ces deux classifier reste assez faible (en dessous de 0.75) et peu satisfaisante pour l'évaluation de nouvelles données, notre fonction d'évaluation se trompe plus d'une fois sur quatre en moyenne."
      ],
      "metadata": {
        "id": "5m4mvb5sLpLE"
      }
    },
    {
      "cell_type": "markdown",
      "source": [
        "### Performance on unseen data\n",
        "Les résultats déterminés ne suiffisent pas vraiment à connaitre les performances du classifier sur les données non-vues. Ils permettent d'avoir des informations sur l'erreur empirique qui peut servir à apporcher l'erreur générale. Cependant il serait préférable d'utiliser un troisième set de données (train, validation et test) afin de mieux ajuster le classfier pour traiter les données d'un problèmes."
      ],
      "metadata": {
        "id": "Cu0yftbVCs0a"
      }
    }
  ]
}